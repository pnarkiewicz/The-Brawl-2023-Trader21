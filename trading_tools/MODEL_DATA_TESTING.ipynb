{
 "cells": [
  {
   "cell_type": "code",
   "execution_count": 1,
   "metadata": {},
   "outputs": [],
   "source": [
    "%reload_ext autoreload\n",
    "%autoreload 2"
   ]
  },
  {
   "cell_type": "code",
   "execution_count": 12,
   "metadata": {},
   "outputs": [],
   "source": [
    "from trader import Trader\n",
    "from utils import id_token\n",
    "\n",
    "size, delta = 15, 3\n",
    "minutes = 2\n",
    "\n",
    "alpha = 0.3\n",
    "\n",
    "alphas = [0.1, 0.3, 0.5]\n",
    "sizes = [5, 10, 15, 20, 25]\n",
    "deltas = [0, 3 ,6, 9]\n",
    "statistics = []\n",
    "\n",
    "for delta in deltas:\n",
    "    trader = Trader(id_token, size, alpha, delta, False)\n",
    "    stats = trader.trade(minutes)\n",
    "    statistics.append(stats)"
   ]
  },
  {
   "cell_type": "code",
   "execution_count": 2,
   "metadata": {},
   "outputs": [
    {
     "name": "stdout",
     "output_type": "stream",
     "text": [
      "Profit: 3396.672 USD. Percentage profit: 0.113%\n",
      "Overall profit: 3396.672 USD\n",
      "Profit: 3571.351 USD. Percentage profit: 0.119%\n",
      "Overall profit: 6968.023 USD\n",
      "Profit: 3870.353 USD. Percentage profit: 0.129%\n",
      "Overall profit: 10838.376 USD\n",
      "Profit: 254.156 USD. Percentage profit: 0.008%\n",
      "Overall profit: 11092.532 USD\n",
      "Profit: 6652.300 USD. Percentage profit: 0.221%\n",
      "Overall profit: 17744.832 USD\n",
      "Profit: 1943.094 USD. Percentage profit: 0.064%\n",
      "Overall profit: 19687.926 USD\n",
      "Profit: -104.284 USD. Percentage profit: -0.003%\n",
      "Overall profit: 19583.642 USD\n",
      "Profit: -1477.610 USD. Percentage profit: -0.049%\n",
      "Overall profit: 18106.032 USD\n",
      "Profit: -188.134 USD. Percentage profit: -0.006%\n",
      "Overall profit: 17917.898 USD\n",
      "Profit: 2038.845 USD. Percentage profit: 0.067%\n",
      "Overall profit: 19956.743 USD\n",
      "Profit: 4536.186 USD. Percentage profit: 0.225%\n",
      "Overall profit: 24492.929 USD\n",
      "Profit: 3707.518 USD. Percentage profit: 0.122%\n",
      "Overall profit: 28200.447 USD\n",
      "Profit: 2682.185 USD. Percentage profit: 0.264%\n",
      "Overall profit: 30882.632 USD\n",
      "Profit: 7099.039 USD. Percentage profit: 0.233%\n",
      "Overall profit: 37981.672 USD\n",
      "Profit: 2945.338 USD. Percentage profit: 0.096%\n",
      "Overall profit: 40927.010 USD\n",
      "Profit: 99.574 USD. Percentage profit: 0.003%\n",
      "Overall profit: 41026.584 USD\n",
      "Profit: -531.510 USD. Percentage profit: -0.017%\n",
      "Overall profit: 40495.074 USD\n",
      "Profit: 6783.468 USD. Percentage profit: 0.222%\n",
      "Overall profit: 47278.542 USD\n",
      "Profit: 2426.816 USD. Percentage profit: 0.079%\n",
      "Overall profit: 49705.358 USD\n",
      "Profit: -1221.786 USD. Percentage profit: -0.040%\n",
      "Overall profit: 48483.572 USD\n",
      "Profit: 2486.183 USD. Percentage profit: 0.243%\n",
      "Overall profit: 50969.755 USD\n",
      "Profit: 6632.094 USD. Percentage profit: 0.216%\n",
      "Overall profit: 57601.849 USD\n",
      "Profit: 739.955 USD. Percentage profit: 0.024%\n",
      "Overall profit: 58341.804 USD\n",
      "Profit: 131.773 USD. Percentage profit: 0.004%\n",
      "Overall profit: 58473.577 USD\n",
      "Profit: 4423.532 USD. Percentage profit: 0.215%\n",
      "Overall profit: 62897.108 USD\n",
      "Profit: 4675.644 USD. Percentage profit: 0.227%\n",
      "Overall profit: 67572.752 USD\n",
      "Profit: 7041.054 USD. Percentage profit: 0.227%\n",
      "Overall profit: 74613.806 USD\n",
      "Profit: 248.508 USD. Percentage profit: 0.008%\n",
      "Overall profit: 74862.314 USD\n",
      "Profit: 261.335 USD. Percentage profit: 0.008%\n",
      "Overall profit: 75123.649 USD\n",
      "Profit: 404.425 USD. Percentage profit: 0.013%\n",
      "Overall profit: 75528.075 USD\n",
      "Profit: 305.270 USD. Percentage profit: 0.010%\n",
      "Overall profit: 75833.345 USD\n",
      "Profit: 1062.300 USD. Percentage profit: 0.051%\n",
      "Overall profit: 76895.645 USD\n",
      "Profit: 6898.407 USD. Percentage profit: 0.221%\n",
      "Overall profit: 83794.052 USD\n",
      "Profit: -254.173 USD. Percentage profit: -0.008%\n",
      "Overall profit: 83539.879 USD\n",
      "Profit: 5919.815 USD. Percentage profit: 0.189%\n",
      "Overall profit: 89459.693 USD\n",
      "Profit: 7442.483 USD. Percentage profit: 0.237%\n",
      "Overall profit: 96902.176 USD\n",
      "READ BTC PRICE ERROR\n"
     ]
    }
   ],
   "source": [
    "from trader import Trader\n",
    "from utils import id_token\n",
    "\n",
    "# trader = Trader(id_token, 15, 0.3, 3, True)\n",
    "# stats = trader.trade(1e3)"
   ]
  },
  {
   "cell_type": "code",
   "execution_count": 14,
   "metadata": {},
   "outputs": [
    {
     "name": "stdout",
     "output_type": "stream",
     "text": [
      "0\n"
     ]
    },
    {
     "data": {
      "application/vnd.plotly.v1+json": {
       "config": {
        "plotlyServerURL": "https://plot.ly"
       },
       "data": [
        {
         "hovertemplate": "x=%{x}<br>y=%{y}<extra></extra>",
         "legendgroup": "",
         "line": {
          "color": "#636efa",
          "dash": "solid"
         },
         "marker": {
          "symbol": "circle"
         },
         "mode": "lines",
         "name": "",
         "orientation": "v",
         "showlegend": false,
         "type": "scatter",
         "x": [
          23,
          29,
          32,
          41,
          45,
          49,
          54,
          74,
          76,
          80,
          98,
          105,
          116,
          120
         ],
         "xaxis": "x",
         "y": [
          -0.000011507882266111361,
          0.00008299582875236713,
          0.0013362003163181362,
          0.0002574406343421045,
          0.00003255674487309686,
          0.000015422489467115763,
          0.00011019157891336363,
          -0.00006184197758806736,
          0.00016966394504299386,
          0.00009803999232623028,
          0.00006195320960337995,
          0.0000623573313075273,
          -0.0000016481727769132704,
          0.000025007655645604245
         ],
         "yaxis": "y"
        },
        {
         "mode": "lines",
         "name": "BTC Change",
         "type": "scatter",
         "x": [
          0,
          1,
          2,
          3,
          4,
          5,
          6,
          7,
          8,
          9,
          10,
          11,
          12,
          13,
          14,
          15,
          16,
          17,
          18,
          19,
          20,
          21,
          22,
          23,
          24,
          25,
          26,
          27,
          28,
          29,
          30,
          31,
          32,
          33,
          34,
          35,
          36,
          37,
          38,
          39,
          40,
          41,
          42,
          43,
          44,
          45,
          46,
          47,
          48,
          49,
          50,
          51,
          52,
          53,
          54,
          55,
          56,
          57,
          58,
          59,
          60,
          61,
          62,
          63,
          64,
          65,
          66,
          67,
          68,
          69,
          70,
          71,
          72,
          73,
          74,
          75,
          76,
          77,
          78,
          79,
          80,
          81,
          82,
          83,
          84,
          85,
          86,
          87,
          88,
          89,
          90,
          91,
          92,
          93,
          94,
          95,
          96,
          97,
          98,
          99,
          100,
          101,
          102,
          103,
          104,
          105,
          106,
          107,
          108,
          109,
          110,
          111,
          112,
          113,
          114,
          115,
          116,
          117,
          118,
          119,
          120,
          121,
          122,
          123,
          124,
          125,
          126,
          127,
          128,
          129,
          130,
          131,
          132,
          133,
          134,
          135,
          136,
          137,
          138,
          139,
          140,
          141,
          142
         ],
         "y": [
          0,
          -2.3567924530879914e-7,
          0,
          -2.3567924530879914e-7,
          -0.0001003993584811424,
          -0.00035493294336285877,
          -0.0004296432641104864,
          -0.00017322424526681414,
          -0.00046452379240915804,
          -0.00034927664147647646,
          -0.00027456632072884877,
          -0.0003935843395856138,
          -0.0002585401320511085,
          -0.0002590114905417261,
          -0.0003452700943070843,
          -0.0002521767924291428,
          -0.0002618396414847458,
          -0.0002712668112952115,
          -0.0002717381697858291,
          -0.00029129954714234393,
          -0.0003551686226079961,
          -0.00049186258485932,
          -0.00036648122638058923,
          -0.00035941084902269704,
          -0.00035964652826800587,
          -0.00035941084902269704,
          -0.00035988220751331465,
          -0.00035964652826800587,
          -0.00044260562259989817,
          -0.00035964652826800587,
          0.00034055650940176567,
          -0.0011590705281925473,
          0.00017558103771921622,
          -0.0012285959055445817,
          -0.001214926509319415,
          -0.0010240263206582135,
          -0.0009156138678382867,
          -0.0010499510376368656,
          -0.0010138921131119928,
          -0.0010028151885847086,
          -0.0010138921131119928,
          -0.0009646351508523997,
          -0.0009521441508536056,
          -0.0009575647734946791,
          -0.0010138921131119928,
          -0.0009813683772658948,
          -0.001005879018773037,
          -0.0010091785282066743,
          -0.0012000787168680474,
          -0.0010563143772588314,
          -0.0010977939244247775,
          -0.0012267104715824543,
          -0.0011753323961155963,
          -0.0011442227357411796,
          -0.0010475942451842921,
          -0.0009719412074556007,
          -0.000949787358401032,
          -0.0009632210753808899,
          -0.0009733552829271105,
          -0.0009243339999128261,
          -0.0010970868866890225,
          -0.0010028151885847086,
          0.00017558103771921622,
          -0.000907365094254022,
          -0.0010970868866890225,
          -0.0010381670753738263,
          -0.001044766094241101,
          -0.0010028151885847086,
          -0.0010631490753714146,
          -0.0012267104715824543,
          -0.0010933160187647677,
          -0.0010970868866890225,
          -0.0011736826413987777,
          -0.0011996073583774298,
          -0.0010975582451794687,
          -0.001241086905543376,
          -0.0010716335282008166,
          -0.0010612636414094588,
          -0.001176982150832415,
          -0.0011743896791345325,
          -0.001077761188577645,
          -0.00106102796216415,
          -0.0010450017734864097,
          -0.0008962881697269093,
          -0.0008112079621877522,
          -0.0007327267735158696,
          -0.0007298986225726785,
          -0.0007407398678546539,
          -0.0007539379055893745,
          -0.0007376760376663255,
          -0.0008031948678487963,
          -0.0007614796414377129,
          -0.0007692570565311884,
          -0.0007725565659649972,
          -0.0007789199055869629,
          -0.0008647071508618749,
          -0.0008849755659543162,
          -0.0012267104715824543,
          -0.0008981736036888652,
          -0.0008769624716155318,
          -0.0008472668867126248,
          -0.0009269264716107084,
          -0.000962514037645135,
          -0.0009622783583998261,
          -0.0009446024150052672,
          -0.0008882750753879534,
          -0.0008107366036971345,
          -0.0008112079621877522,
          -0.0008614076414282376,
          -0.0008069657357730512,
          -0.001229067264035028,
          -0.0008828544527470514,
          -0.0009240983206676887,
          -0.0009427169810431399,
          -0.0011560066980042189,
          -0.0010563143772588314,
          -0.00100116543386789,
          -0.0010009297546225812,
          -0.0010063503772636546,
          -0.001025911754620341,
          -0.0010009297546225812,
          -0.001229067264035028,
          -0.0010009297546225812,
          -0.0010068217357541008,
          -0.0009768904716060565,
          -0.0009210344904791888,
          -0.0009222128867055614,
          -0.0008244059999223013,
          -0.0009174993018002427,
          -0.0012267104715824543,
          -0.0008689493772765759,
          -0.0008906318678405269,
          -0.0008680066602955121,
          -0.0008552799810514092,
          -0.0008493879999198896,
          -0.0007725565659649972,
          -0.0008142717923760806,
          -0.0007770344716248354,
          -0.0007904681886046933,
          -0.0008804976602943064,
          -0.0007716138489839334,
          -0.0006332701320157909,
          -0.0006243143206959428
         ]
        }
       ],
       "layout": {
        "legend": {
         "tracegroupgap": 0
        },
        "template": {
         "data": {
          "bar": [
           {
            "error_x": {
             "color": "#2a3f5f"
            },
            "error_y": {
             "color": "#2a3f5f"
            },
            "marker": {
             "line": {
              "color": "#E5ECF6",
              "width": 0.5
             },
             "pattern": {
              "fillmode": "overlay",
              "size": 10,
              "solidity": 0.2
             }
            },
            "type": "bar"
           }
          ],
          "barpolar": [
           {
            "marker": {
             "line": {
              "color": "#E5ECF6",
              "width": 0.5
             },
             "pattern": {
              "fillmode": "overlay",
              "size": 10,
              "solidity": 0.2
             }
            },
            "type": "barpolar"
           }
          ],
          "carpet": [
           {
            "aaxis": {
             "endlinecolor": "#2a3f5f",
             "gridcolor": "white",
             "linecolor": "white",
             "minorgridcolor": "white",
             "startlinecolor": "#2a3f5f"
            },
            "baxis": {
             "endlinecolor": "#2a3f5f",
             "gridcolor": "white",
             "linecolor": "white",
             "minorgridcolor": "white",
             "startlinecolor": "#2a3f5f"
            },
            "type": "carpet"
           }
          ],
          "choropleth": [
           {
            "colorbar": {
             "outlinewidth": 0,
             "ticks": ""
            },
            "type": "choropleth"
           }
          ],
          "contour": [
           {
            "colorbar": {
             "outlinewidth": 0,
             "ticks": ""
            },
            "colorscale": [
             [
              0,
              "#0d0887"
             ],
             [
              0.1111111111111111,
              "#46039f"
             ],
             [
              0.2222222222222222,
              "#7201a8"
             ],
             [
              0.3333333333333333,
              "#9c179e"
             ],
             [
              0.4444444444444444,
              "#bd3786"
             ],
             [
              0.5555555555555556,
              "#d8576b"
             ],
             [
              0.6666666666666666,
              "#ed7953"
             ],
             [
              0.7777777777777778,
              "#fb9f3a"
             ],
             [
              0.8888888888888888,
              "#fdca26"
             ],
             [
              1,
              "#f0f921"
             ]
            ],
            "type": "contour"
           }
          ],
          "contourcarpet": [
           {
            "colorbar": {
             "outlinewidth": 0,
             "ticks": ""
            },
            "type": "contourcarpet"
           }
          ],
          "heatmap": [
           {
            "colorbar": {
             "outlinewidth": 0,
             "ticks": ""
            },
            "colorscale": [
             [
              0,
              "#0d0887"
             ],
             [
              0.1111111111111111,
              "#46039f"
             ],
             [
              0.2222222222222222,
              "#7201a8"
             ],
             [
              0.3333333333333333,
              "#9c179e"
             ],
             [
              0.4444444444444444,
              "#bd3786"
             ],
             [
              0.5555555555555556,
              "#d8576b"
             ],
             [
              0.6666666666666666,
              "#ed7953"
             ],
             [
              0.7777777777777778,
              "#fb9f3a"
             ],
             [
              0.8888888888888888,
              "#fdca26"
             ],
             [
              1,
              "#f0f921"
             ]
            ],
            "type": "heatmap"
           }
          ],
          "heatmapgl": [
           {
            "colorbar": {
             "outlinewidth": 0,
             "ticks": ""
            },
            "colorscale": [
             [
              0,
              "#0d0887"
             ],
             [
              0.1111111111111111,
              "#46039f"
             ],
             [
              0.2222222222222222,
              "#7201a8"
             ],
             [
              0.3333333333333333,
              "#9c179e"
             ],
             [
              0.4444444444444444,
              "#bd3786"
             ],
             [
              0.5555555555555556,
              "#d8576b"
             ],
             [
              0.6666666666666666,
              "#ed7953"
             ],
             [
              0.7777777777777778,
              "#fb9f3a"
             ],
             [
              0.8888888888888888,
              "#fdca26"
             ],
             [
              1,
              "#f0f921"
             ]
            ],
            "type": "heatmapgl"
           }
          ],
          "histogram": [
           {
            "marker": {
             "pattern": {
              "fillmode": "overlay",
              "size": 10,
              "solidity": 0.2
             }
            },
            "type": "histogram"
           }
          ],
          "histogram2d": [
           {
            "colorbar": {
             "outlinewidth": 0,
             "ticks": ""
            },
            "colorscale": [
             [
              0,
              "#0d0887"
             ],
             [
              0.1111111111111111,
              "#46039f"
             ],
             [
              0.2222222222222222,
              "#7201a8"
             ],
             [
              0.3333333333333333,
              "#9c179e"
             ],
             [
              0.4444444444444444,
              "#bd3786"
             ],
             [
              0.5555555555555556,
              "#d8576b"
             ],
             [
              0.6666666666666666,
              "#ed7953"
             ],
             [
              0.7777777777777778,
              "#fb9f3a"
             ],
             [
              0.8888888888888888,
              "#fdca26"
             ],
             [
              1,
              "#f0f921"
             ]
            ],
            "type": "histogram2d"
           }
          ],
          "histogram2dcontour": [
           {
            "colorbar": {
             "outlinewidth": 0,
             "ticks": ""
            },
            "colorscale": [
             [
              0,
              "#0d0887"
             ],
             [
              0.1111111111111111,
              "#46039f"
             ],
             [
              0.2222222222222222,
              "#7201a8"
             ],
             [
              0.3333333333333333,
              "#9c179e"
             ],
             [
              0.4444444444444444,
              "#bd3786"
             ],
             [
              0.5555555555555556,
              "#d8576b"
             ],
             [
              0.6666666666666666,
              "#ed7953"
             ],
             [
              0.7777777777777778,
              "#fb9f3a"
             ],
             [
              0.8888888888888888,
              "#fdca26"
             ],
             [
              1,
              "#f0f921"
             ]
            ],
            "type": "histogram2dcontour"
           }
          ],
          "mesh3d": [
           {
            "colorbar": {
             "outlinewidth": 0,
             "ticks": ""
            },
            "type": "mesh3d"
           }
          ],
          "parcoords": [
           {
            "line": {
             "colorbar": {
              "outlinewidth": 0,
              "ticks": ""
             }
            },
            "type": "parcoords"
           }
          ],
          "pie": [
           {
            "automargin": true,
            "type": "pie"
           }
          ],
          "scatter": [
           {
            "fillpattern": {
             "fillmode": "overlay",
             "size": 10,
             "solidity": 0.2
            },
            "type": "scatter"
           }
          ],
          "scatter3d": [
           {
            "line": {
             "colorbar": {
              "outlinewidth": 0,
              "ticks": ""
             }
            },
            "marker": {
             "colorbar": {
              "outlinewidth": 0,
              "ticks": ""
             }
            },
            "type": "scatter3d"
           }
          ],
          "scattercarpet": [
           {
            "marker": {
             "colorbar": {
              "outlinewidth": 0,
              "ticks": ""
             }
            },
            "type": "scattercarpet"
           }
          ],
          "scattergeo": [
           {
            "marker": {
             "colorbar": {
              "outlinewidth": 0,
              "ticks": ""
             }
            },
            "type": "scattergeo"
           }
          ],
          "scattergl": [
           {
            "marker": {
             "colorbar": {
              "outlinewidth": 0,
              "ticks": ""
             }
            },
            "type": "scattergl"
           }
          ],
          "scattermapbox": [
           {
            "marker": {
             "colorbar": {
              "outlinewidth": 0,
              "ticks": ""
             }
            },
            "type": "scattermapbox"
           }
          ],
          "scatterpolar": [
           {
            "marker": {
             "colorbar": {
              "outlinewidth": 0,
              "ticks": ""
             }
            },
            "type": "scatterpolar"
           }
          ],
          "scatterpolargl": [
           {
            "marker": {
             "colorbar": {
              "outlinewidth": 0,
              "ticks": ""
             }
            },
            "type": "scatterpolargl"
           }
          ],
          "scatterternary": [
           {
            "marker": {
             "colorbar": {
              "outlinewidth": 0,
              "ticks": ""
             }
            },
            "type": "scatterternary"
           }
          ],
          "surface": [
           {
            "colorbar": {
             "outlinewidth": 0,
             "ticks": ""
            },
            "colorscale": [
             [
              0,
              "#0d0887"
             ],
             [
              0.1111111111111111,
              "#46039f"
             ],
             [
              0.2222222222222222,
              "#7201a8"
             ],
             [
              0.3333333333333333,
              "#9c179e"
             ],
             [
              0.4444444444444444,
              "#bd3786"
             ],
             [
              0.5555555555555556,
              "#d8576b"
             ],
             [
              0.6666666666666666,
              "#ed7953"
             ],
             [
              0.7777777777777778,
              "#fb9f3a"
             ],
             [
              0.8888888888888888,
              "#fdca26"
             ],
             [
              1,
              "#f0f921"
             ]
            ],
            "type": "surface"
           }
          ],
          "table": [
           {
            "cells": {
             "fill": {
              "color": "#EBF0F8"
             },
             "line": {
              "color": "white"
             }
            },
            "header": {
             "fill": {
              "color": "#C8D4E3"
             },
             "line": {
              "color": "white"
             }
            },
            "type": "table"
           }
          ]
         },
         "layout": {
          "annotationdefaults": {
           "arrowcolor": "#2a3f5f",
           "arrowhead": 0,
           "arrowwidth": 1
          },
          "autotypenumbers": "strict",
          "coloraxis": {
           "colorbar": {
            "outlinewidth": 0,
            "ticks": ""
           }
          },
          "colorscale": {
           "diverging": [
            [
             0,
             "#8e0152"
            ],
            [
             0.1,
             "#c51b7d"
            ],
            [
             0.2,
             "#de77ae"
            ],
            [
             0.3,
             "#f1b6da"
            ],
            [
             0.4,
             "#fde0ef"
            ],
            [
             0.5,
             "#f7f7f7"
            ],
            [
             0.6,
             "#e6f5d0"
            ],
            [
             0.7,
             "#b8e186"
            ],
            [
             0.8,
             "#7fbc41"
            ],
            [
             0.9,
             "#4d9221"
            ],
            [
             1,
             "#276419"
            ]
           ],
           "sequential": [
            [
             0,
             "#0d0887"
            ],
            [
             0.1111111111111111,
             "#46039f"
            ],
            [
             0.2222222222222222,
             "#7201a8"
            ],
            [
             0.3333333333333333,
             "#9c179e"
            ],
            [
             0.4444444444444444,
             "#bd3786"
            ],
            [
             0.5555555555555556,
             "#d8576b"
            ],
            [
             0.6666666666666666,
             "#ed7953"
            ],
            [
             0.7777777777777778,
             "#fb9f3a"
            ],
            [
             0.8888888888888888,
             "#fdca26"
            ],
            [
             1,
             "#f0f921"
            ]
           ],
           "sequentialminus": [
            [
             0,
             "#0d0887"
            ],
            [
             0.1111111111111111,
             "#46039f"
            ],
            [
             0.2222222222222222,
             "#7201a8"
            ],
            [
             0.3333333333333333,
             "#9c179e"
            ],
            [
             0.4444444444444444,
             "#bd3786"
            ],
            [
             0.5555555555555556,
             "#d8576b"
            ],
            [
             0.6666666666666666,
             "#ed7953"
            ],
            [
             0.7777777777777778,
             "#fb9f3a"
            ],
            [
             0.8888888888888888,
             "#fdca26"
            ],
            [
             1,
             "#f0f921"
            ]
           ]
          },
          "colorway": [
           "#636efa",
           "#EF553B",
           "#00cc96",
           "#ab63fa",
           "#FFA15A",
           "#19d3f3",
           "#FF6692",
           "#B6E880",
           "#FF97FF",
           "#FECB52"
          ],
          "font": {
           "color": "#2a3f5f"
          },
          "geo": {
           "bgcolor": "white",
           "lakecolor": "white",
           "landcolor": "#E5ECF6",
           "showlakes": true,
           "showland": true,
           "subunitcolor": "white"
          },
          "hoverlabel": {
           "align": "left"
          },
          "hovermode": "closest",
          "mapbox": {
           "style": "light"
          },
          "paper_bgcolor": "white",
          "plot_bgcolor": "#E5ECF6",
          "polar": {
           "angularaxis": {
            "gridcolor": "white",
            "linecolor": "white",
            "ticks": ""
           },
           "bgcolor": "#E5ECF6",
           "radialaxis": {
            "gridcolor": "white",
            "linecolor": "white",
            "ticks": ""
           }
          },
          "scene": {
           "xaxis": {
            "backgroundcolor": "#E5ECF6",
            "gridcolor": "white",
            "gridwidth": 2,
            "linecolor": "white",
            "showbackground": true,
            "ticks": "",
            "zerolinecolor": "white"
           },
           "yaxis": {
            "backgroundcolor": "#E5ECF6",
            "gridcolor": "white",
            "gridwidth": 2,
            "linecolor": "white",
            "showbackground": true,
            "ticks": "",
            "zerolinecolor": "white"
           },
           "zaxis": {
            "backgroundcolor": "#E5ECF6",
            "gridcolor": "white",
            "gridwidth": 2,
            "linecolor": "white",
            "showbackground": true,
            "ticks": "",
            "zerolinecolor": "white"
           }
          },
          "shapedefaults": {
           "line": {
            "color": "#2a3f5f"
           }
          },
          "ternary": {
           "aaxis": {
            "gridcolor": "white",
            "linecolor": "white",
            "ticks": ""
           },
           "baxis": {
            "gridcolor": "white",
            "linecolor": "white",
            "ticks": ""
           },
           "bgcolor": "#E5ECF6",
           "caxis": {
            "gridcolor": "white",
            "linecolor": "white",
            "ticks": ""
           }
          },
          "title": {
           "x": 0.05
          },
          "xaxis": {
           "automargin": true,
           "gridcolor": "white",
           "linecolor": "white",
           "ticks": "",
           "title": {
            "standoff": 15
           },
           "zerolinecolor": "white",
           "zerolinewidth": 2
          },
          "yaxis": {
           "automargin": true,
           "gridcolor": "white",
           "linecolor": "white",
           "ticks": "",
           "title": {
            "standoff": 15
           },
           "zerolinecolor": "white",
           "zerolinewidth": 2
          }
         }
        },
        "title": {
         "text": "Total profit = 435.061. Mean profit: 0.016%. Coef of variation: 224.516%"
        },
        "xaxis": {
         "anchor": "y",
         "domain": [
          0,
          1
         ],
         "title": {
          "text": "x"
         }
        },
        "yaxis": {
         "anchor": "x",
         "domain": [
          0,
          1
         ],
         "title": {
          "text": "y"
         }
        }
       }
      }
     },
     "metadata": {},
     "output_type": "display_data"
    }
   ],
   "source": [
    "import plotly.express as px\n",
    "import plotly.graph_objects as go\n",
    "import numpy as np\n",
    "\n",
    "def plot_graph(stats):\n",
    "    profits = np.array(stats['Profits'])\n",
    "    all_profits = stats['All_profits']\n",
    "    btc_price = np.array(stats['BTC_price'])\n",
    "    btc_change = (btc_price-btc_price[0])/btc_price[0]\n",
    "    profit = (profits[:,0]-profits[:,1])/profits[:,1]\n",
    "    mean = np.mean(profit)\n",
    "    std = np.std(profit, ddof=1)\n",
    "\n",
    "    fig = px.line(x=profits[:,2], y=profit, title=f'Total profit = {all_profits:.3f}. Mean profit: {mean*100:.3f}%. Coef of variation: {std/mean*100:.3f}%')\n",
    "    fig.add_trace(go.Scatter(y=btc_change, x=list(range(len(btc_price))), mode=\"lines\", name=\"BTC Change\"))\n",
    "\n",
    "    fig.show()\n",
    "\n",
    "for delta, stats in zip(deltas, statistics):\n",
    "    if len(stats['Profits']) > 0:\n",
    "        print(delta)\n",
    "        plot_graph(stats)\n"
   ]
  },
  {
   "cell_type": "code",
   "execution_count": 5,
   "metadata": {},
   "outputs": [
    {
     "name": "stdout",
     "output_type": "stream",
     "text": [
      "{'ok': False, 'code': 'unauthorized'}\n"
     ]
    }
   ],
   "source": [
    "from utils import id_token\n",
    "from helper_functions import buy_btc, sell_btc, read_off_crypto_data, make_multiple_requests\n",
    "\n",
    "# https://platform.the-brawl.eu/ui/api/rates?currencyId=BTC&type=current\n",
    "\n",
    "session = requests.Session()\n",
    "\n",
    "res = session.post(\n",
    "        'https://platform.the-brawl.eu/ui/api/rates?currencyId=BTC&type=current',\n",
    "        headers={\"Authorization\": f\"Bearer {id_token}\"},\n",
    "        json={\n",
    "            \"currencyId\": 'BTC',\n",
    "            \"type\": 'current',\n",
    "            # \"amountFromSourceWallet\": price * volume,\n",
    "            # \"exchangeRate\": 1 / price,\n",
    "        },\n",
    "        verify=False,\n",
    "    )\n",
    "print(res.json())"
   ]
  },
  {
   "cell_type": "code",
   "execution_count": 179,
   "metadata": {},
   "outputs": [
    {
     "name": "stdout",
     "output_type": "stream",
     "text": [
      "138 ms ± 12.5 ms per loop (mean ± std. dev. of 7 runs, 1 loop each)\n"
     ]
    }
   ],
   "source": [
    "%timeit buy_btc(0.000001, 42300, id_token)"
   ]
  },
  {
   "cell_type": "code",
   "execution_count": 152,
   "metadata": {},
   "outputs": [
    {
     "name": "stdout",
     "output_type": "stream",
     "text": [
      "241 ms ± 47.6 ms per loop (mean ± std. dev. of 7 runs, 1 loop each)\n"
     ]
    }
   ],
   "source": [
    "%timeit sell_btc(0.000001, 41300, id_token)"
   ]
  },
  {
   "cell_type": "code",
   "execution_count": 127,
   "metadata": {},
   "outputs": [],
   "source": [
    "COINBASE_BTC_URL = \"https://api.coinbase.com/v2/prices/BTC-USD/spot\"\n",
    "COINBASE_ETH_URL = \"https://api.coinbase.com/v2/prices/ETH-USD/spot\"\n",
    "COINBASE_TIME_URL = \"https://api.coinbase.com/v2/time\"\n",
    "\n",
    "urls = [\n",
    "            COINBASE_TIME_URL,\n",
    "            COINBASE_BTC_URL,\n",
    "            COINBASE_ETH_URL,\n",
    "]"
   ]
  },
  {
   "cell_type": "code",
   "execution_count": 135,
   "metadata": {},
   "outputs": [
    {
     "name": "stdout",
     "output_type": "stream",
     "text": [
      "223 ms ± 39.4 ms per loop (mean ± std. dev. of 7 runs, 1 loop each)\n"
     ]
    }
   ],
   "source": [
    "%timeit read_off_crypto_data(make_multiple_requests(urls))"
   ]
  },
  {
   "cell_type": "code",
   "execution_count": 160,
   "metadata": {},
   "outputs": [
    {
     "name": "stdout",
     "output_type": "stream",
     "text": [
      "0.196125\n",
      "0.19561863 0.0018980419689130998\n"
     ]
    }
   ],
   "source": [
    "import requests\n",
    "from datetime import datetime\n",
    "import numpy as np\n",
    "\n",
    "with requests.Session() as session:\n",
    "    start = datetime.now()\n",
    "    response = session.get(\"https://api.coinbase.com/v2/prices/BTC-USD/spot\")\n",
    "    end = datetime.now()\n",
    "    print((end-start).total_seconds())\n",
    "    times = []\n",
    "    for _ in range(100):\n",
    "        start = datetime.now()\n",
    "        session.get(\"https://api.coinbase.com/v2/prices/BTC-USD/spot\")\n",
    "        end = datetime.now()\n",
    "        times.append((end-start).total_seconds())\n",
    "    print(np.mean(times), np.var(times))\n"
   ]
  },
  {
   "cell_type": "code",
   "execution_count": 167,
   "metadata": {},
   "outputs": [],
   "source": [
    "import os\n",
    "\n",
    "TRANSACTION_URL = \"http://platform.the-brawl.eu/api/transaction\"\n",
    "BTC_WALLET_ID = os.environ.get(\"BTC_WALLET_ID\")\n",
    "USD_WALLET_ID = os.environ.get(\"USD_WALLET_ID\")\n",
    "\n",
    "def buy_btc(volume, price, token, session):\n",
    "    # print(f\"Buying {volume} BTC for {price} per unit USD, total: {volume * price} USD\")\n",
    "    res = session.post(\n",
    "        TRANSACTION_URL,\n",
    "        headers={\"Authorization\": f\"Bearer {token}\"},\n",
    "        json={\n",
    "            \"sourceWalletId\": USD_WALLET_ID,\n",
    "            \"destWalletId\": BTC_WALLET_ID,\n",
    "            \"amountFromSourceWallet\": price * volume,\n",
    "            \"exchangeRate\": 1 / price,\n",
    "        },\n",
    "        verify=False,\n",
    "    )\n",
    "    return \"data\" in res.json().keys()\n",
    "\n",
    "from concurrent.futures import ThreadPoolExecutor\n",
    "import json\n",
    "\n",
    "def make_request(url):\n",
    "    response = session_coinbase.get(url)\n",
    "    return response.text\n",
    "\n",
    "session_coinbase = requests.Session()\n",
    "\n",
    "def make_multiple_requests(urls, max_workers=3):\n",
    "    with ThreadPoolExecutor(max_workers=max_workers) as executor:\n",
    "        responses = list(executor.map(make_request, urls))\n",
    "\n",
    "    data = {}\n",
    "    for url, response in zip(urls, responses):\n",
    "        data[url] = json.loads(response)\n",
    "\n",
    "    return data"
   ]
  },
  {
   "cell_type": "code",
   "execution_count": 170,
   "metadata": {},
   "outputs": [
    {
     "name": "stdout",
     "output_type": "stream",
     "text": [
      "0.193977\n",
      "0.19554860999999998 0.0033851800912578995\n"
     ]
    }
   ],
   "source": [
    "volume = 0.00001\n",
    "price = 1\n",
    "token = id_token\n",
    "\n",
    "\n",
    "start = datetime.now()\n",
    "response = make_multiple_requests(urls)\n",
    "end = datetime.now()\n",
    "print((end-start).total_seconds())\n",
    "times = []\n",
    "for _ in range(100):\n",
    "    start = datetime.now()\n",
    "    make_multiple_requests(urls)\n",
    "    end = datetime.now()\n",
    "    times.append((end-start).total_seconds())\n",
    "print(np.mean(times), np.var(times))"
   ]
  },
  {
   "cell_type": "code",
   "execution_count": 166,
   "metadata": {},
   "outputs": [
    {
     "name": "stdout",
     "output_type": "stream",
     "text": [
      "0.184947\n",
      "0.08321361 0.0008180979127179001\n"
     ]
    }
   ],
   "source": [
    "volume = 0.00001\n",
    "price = 1\n",
    "token = id_token\n",
    "\n",
    "with requests.Session() as session:\n",
    "    start = datetime.now()\n",
    "    response = buy_btc(volume, price, token, session)\n",
    "    end = datetime.now()\n",
    "    print((end-start).total_seconds())\n",
    "    times = []\n",
    "    for _ in range(100):\n",
    "        start = datetime.now()\n",
    "        buy_btc(volume, price, token, session)\n",
    "        end = datetime.now()\n",
    "        times.append((end-start).total_seconds())\n",
    "    print(np.mean(times), np.var(times))"
   ]
  },
  {
   "cell_type": "code",
   "execution_count": 185,
   "metadata": {},
   "outputs": [],
   "source": [
    "headers = {\n",
    "    \"authority\": \"platform.the-brawl.eu\",\n",
    "    \"accept\": \"text/html,application/xhtml+xml,application/xml;q=0.9,image/avif,image/webp,image/apng,*/*;q=0.8,application/signed-exchange;v=b3;q=0.7\",\n",
    "    \"accept-encoding\": \"gzip, deflate, br\",\n",
    "    \"accept-language\": \"en-GB,en-US;q=0.9,en;q=0.8,pl;q=0.7\",\n",
    "    \"cache-control\": \"max-age=0\",\n",
    "    \"cookie\": \"_ga=GA1.1.1273563410.1702031817; connect.sid=s%3Aj7CTFkw3WubU7VoMUphEKdZccBXhqljY.onbbx7GdAKHqWRowPJWavbLkL%2Fp4eQlJoF1Cd9p%2B3kw; cryptobrawl.AuthUser=IntcImlkXCI6XCJHbGpiakE4a1dqV2lHS2FrUEV2S3VlQjZHODEyXCIsXCJjbGFpbXNcIjp7fSxcImVtYWlsXCI6XCJwbjQ1ODg2NkBzdHVkZW50cy5taW11dy5lZHUucGxcIixcImVtYWlsVmVyaWZpZWRcIjp0cnVlLFwiZGlzcGxheU5hbWVcIjpcIlBhd2VsXCIsXCJjbGllbnRJbml0aWFsaXplZFwiOmZhbHNlfSI=; cryptobrawl.AuthUser.sig=prGKP_opFy9YWZZc3i0bTgTwE_Y; _ga_85WP5H5EX2=GS1.1.1702626284.38.1.1702627248.0.0.0; cryptobrawl.AuthUserTokens=IntcImlkVG9rZW5cIjpcImV5SmhiR2NpT2lKU1V6STFOaUlzSW10cFpDSTZJbUpsTnpneU0yVm1NREZpWkRSa01tSTVOakkzTkRFMk5UaGtNakE0TURkbFptVmxObVJsTldNaUxDSjBlWEFpT2lKS1YxUWlmUS5leUp1WVcxbElqb2lVR0YzWld3aUxDSnBjM01pT2lKb2RIUndjem92TDNObFkzVnlaWFJ2YTJWdUxtZHZiMmRzWlM1amIyMHZZM0o1Y0hSdk1qTXROV0ZsTVRFaUxDSmhkV1FpT2lKamNubHdkRzh5TXkwMVlXVXhNU0lzSW1GMWRHaGZkR2x0WlNJNk1UY3dNall5TnpJME9Dd2lkWE5sY2w5cFpDSTZJa2RzYW1KcVFUaHJWMnBYYVVkTFlXdFFSWFpMZFdWQ05rYzRNVElpTENKemRXSWlPaUpIYkdwaWFrRTRhMWRxVjJsSFMyRnJVRVYyUzNWbFFqWkhPREV5SWl3aWFXRjBJam94TnpBeU5qSTNNalE0TENKbGVIQWlPakUzTURJMk16QTRORGdzSW1WdFlXbHNJam9pY0c0ME5UZzROalpBYzNSMVpHVnVkSE11YldsdGRYY3VaV1IxTG5Cc0lpd2laVzFoYVd4ZmRtVnlhV1pwWldRaU9uUnlkV1VzSW1acGNtVmlZWE5sSWpwN0ltbGtaVzUwYVhScFpYTWlPbnNpWlcxaGFXd2lPbHNpY0c0ME5UZzROalpBYzNSMVpHVnVkSE11YldsdGRYY3VaV1IxTG5Cc0lsMTlMQ0p6YVdkdVgybHVYM0J5YjNacFpHVnlJam9pWTNWemRHOXRJbjE5LmVMWlNKNzJnd05TSVBVSlQ0SU40bmRJdWgtM3V6T2xBSjMtYV9MVHlUV0hpUWM3YzFDcUJ6ZWN5akc1dXNYRlR4MnlkdkV6RFRyTHBJTHZMamEyTWYycFdnR05ON1IzUGtPeEQyVHNxQ0JjVDNzRExhOXc1b19MQ3Z6dGFHMk5vbE9LNEo0ZG9hamxqQi15V1FGSEo2T2dQTmVDUkIxQTF3ejhpd3hjV1p1LW1mcmgtSEpPSmREY1pnMVl4N0RUYmgyTHVCUHpyMXdLSEh3eVIySEJBeWFEVFUyUXdQU3pzY3BQczhjU2FjN2d6Y3AxbndUV0lCWjN0YXBGbkR5LXFCRU9BenE2SUdLdGplaFIyQUVtaWR2aGdKLXRPRWExYlUtR0FKai1fakJQdjVoYWxnR2ZDTVducXV0ZG5NUHdWUWlRRkI5LXYxQ0s3S1RLakFxOTNhQVwiLFwicmVmcmVzaFRva2VuXCI6XCJBTWYtdkJ5SWM0RWZ1OVVPWjBTb0VJb1JxbVZyc0JxWmtUZHNRM2FQNDZ2Y3FIUk1HUl9sUkg5bWtkYXJJVXQ3ZWpXcjZBRlJnTkZGejFQZlVfUWJuTldxZDYxQWdsZ0s0VWliaWVEY1Q1emVDQjVPcFc1NFFvNER0N3ljbkJhODUwcFRoMEgtbnhvU1M3REN2aFZxY3pkX205eXpRZnR0Qm5aUDczTEhhZllTTG14dWZqSlRhVjhcIn0i; cryptobrawl.AuthUserTokens.sig=W23CqTQHywU2T54jxaB3Vc6dsrI\",\n",
    "    \"if-none-match\": '\"24a-KVY3R5JRe8if66f102/e+gBdqRI\"',\n",
    "    \"sec-ch-ua\": '\"Not_A Brand\";v=\"8\", \"Chromium\";v=\"120\", \"Google Chrome\";v=\"120\"',\n",
    "    \"sec-ch-ua-mobile\": \"?0\",\n",
    "    \"sec-ch-ua-platform\": '\"macOS\"',\n",
    "    \"sec-fetch-dest\": \"document\",\n",
    "    \"sec-fetch-mode\": \"navigate\",\n",
    "    \"sec-fetch-site\": \"none\",\n",
    "    \"sec-fetch-user\": \"?1\",\n",
    "    \"sec-gpc\": \"1\",\n",
    "    \"upgrade-insecure-requests\": \"1\",\n",
    "    \"user-agent\": \"Mozilla/5.0 (Macintosh; Intel Mac OS X 10_15_7) AppleWebKit/537.36 (KHTML, like Gecko) Chrome/120.0.0.0 Safari/537.36\",\n",
    "}\n",
    "url = \"https://platform.the-brawl.eu/ui/api/rates?currencyId=BTC&type=current\"\n",
    "\n",
    "r = requests.Session()\n",
    "\n",
    "responsee = r.get(url, headers=headers, verify=False)"
   ]
  },
  {
   "cell_type": "code",
   "execution_count": null,
   "metadata": {},
   "outputs": [],
   "source": []
  }
 ],
 "metadata": {
  "kernelspec": {
   "display_name": "deepsenseai",
   "language": "python",
   "name": "python3"
  },
  "language_info": {
   "codemirror_mode": {
    "name": "ipython",
    "version": 3
   },
   "file_extension": ".py",
   "mimetype": "text/x-python",
   "name": "python",
   "nbconvert_exporter": "python",
   "pygments_lexer": "ipython3",
   "version": "3.10.13"
  }
 },
 "nbformat": 4,
 "nbformat_minor": 2
}
