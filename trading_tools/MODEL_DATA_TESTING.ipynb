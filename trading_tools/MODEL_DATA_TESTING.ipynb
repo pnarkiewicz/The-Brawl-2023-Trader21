{
 "cells": [
  {
   "cell_type": "code",
   "execution_count": 1,
   "metadata": {},
   "outputs": [],
   "source": [
    "%reload_ext autoreload\n",
    "%autoreload 2"
   ]
  },
  {
   "cell_type": "code",
   "execution_count": 62,
   "metadata": {},
   "outputs": [
    {
     "ename": "KeyboardInterrupt",
     "evalue": "",
     "output_type": "error",
     "traceback": [
      "\u001b[0;31m---------------------------------------------------------------------------\u001b[0m",
      "\u001b[0;31mKeyboardInterrupt\u001b[0m                         Traceback (most recent call last)",
      "\u001b[1;32m/Users/pawelnarkiewicz/Documents/GitHub/The-Brawl-2023/trading_tools/MODEL_DATA_TESTING.ipynb Cell 2\u001b[0m line \u001b[0;36m5\n\u001b[1;32m      <a href='vscode-notebook-cell:/Users/pawelnarkiewicz/Documents/GitHub/The-Brawl-2023/trading_tools/MODEL_DATA_TESTING.ipynb#W5sZmlsZQ%3D%3D?line=1'>2</a>\u001b[0m \u001b[39mfrom\u001b[39;00m \u001b[39mutils\u001b[39;00m \u001b[39mimport\u001b[39;00m id_token\n\u001b[1;32m      <a href='vscode-notebook-cell:/Users/pawelnarkiewicz/Documents/GitHub/The-Brawl-2023/trading_tools/MODEL_DATA_TESTING.ipynb#W5sZmlsZQ%3D%3D?line=3'>4</a>\u001b[0m trader \u001b[39m=\u001b[39m Trader(id_token, \u001b[39mNone\u001b[39;00m)\n\u001b[0;32m----> <a href='vscode-notebook-cell:/Users/pawelnarkiewicz/Documents/GitHub/The-Brawl-2023/trading_tools/MODEL_DATA_TESTING.ipynb#W5sZmlsZQ%3D%3D?line=4'>5</a>\u001b[0m trader\u001b[39m.\u001b[39;49mtrade()\n",
      "File \u001b[0;32m~/Documents/GitHub/The-Brawl-2023/trading_tools/trader.py:26\u001b[0m, in \u001b[0;36mTrader.trade\u001b[0;34m(self)\u001b[0m\n\u001b[1;32m     24\u001b[0m \u001b[39mdef\u001b[39;00m \u001b[39mtrade\u001b[39m(\u001b[39mself\u001b[39m):\n\u001b[1;32m     25\u001b[0m     \u001b[39mwhile\u001b[39;00m \u001b[39mTrue\u001b[39;00m:\n\u001b[0;32m---> 26\u001b[0m         \u001b[39mself\u001b[39;49m\u001b[39m.\u001b[39;49msingle_trading_loop()\n",
      "File \u001b[0;32m~/Documents/GitHub/The-Brawl-2023/trading_tools/trader.py:31\u001b[0m, in \u001b[0;36mTrader.single_trading_loop\u001b[0;34m(self)\u001b[0m\n\u001b[1;32m     30\u001b[0m \u001b[39mdef\u001b[39;00m \u001b[39msingle_trading_loop\u001b[39m(\u001b[39mself\u001b[39m):\n\u001b[0;32m---> 31\u001b[0m     \u001b[39mself\u001b[39;49m\u001b[39m.\u001b[39;49mupdate_prices()\n",
      "File \u001b[0;32m~/Documents/GitHub/The-Brawl-2023/trading_tools/trader.py:40\u001b[0m, in \u001b[0;36mTrader.update_prices\u001b[0;34m(self)\u001b[0m\n\u001b[1;32m     34\u001b[0m \u001b[39mdef\u001b[39;00m \u001b[39mupdate_prices\u001b[39m(\u001b[39mself\u001b[39m):\n\u001b[1;32m     35\u001b[0m     urls \u001b[39m=\u001b[39m [\n\u001b[1;32m     36\u001b[0m         COINBASE_TIME_URL,\n\u001b[1;32m     37\u001b[0m         COINBASE_BTC_URL,\n\u001b[1;32m     38\u001b[0m         COINBASE_ETH_URL,\n\u001b[1;32m     39\u001b[0m     ]\n\u001b[0;32m---> 40\u001b[0m     new_data \u001b[39m=\u001b[39m read_off_crypto_data(make_multiple_requests(urls))\n\u001b[1;32m     42\u001b[0m     \u001b[39mif\u001b[39;00m (\n\u001b[1;32m     43\u001b[0m         \u001b[39mlen\u001b[39m(\u001b[39mself\u001b[39m\u001b[39m.\u001b[39mdata) \u001b[39m==\u001b[39m \u001b[39m0\u001b[39m\n\u001b[1;32m     44\u001b[0m         \u001b[39mor\u001b[39;00m new_data[\u001b[39m\"\u001b[39m\u001b[39mEpoch\u001b[39m\u001b[39m\"\u001b[39m] \u001b[39m!=\u001b[39m \u001b[39mself\u001b[39m\u001b[39m.\u001b[39mdata\u001b[39m.\u001b[39mloc[\u001b[39mlen\u001b[39m(\u001b[39mself\u001b[39m\u001b[39m.\u001b[39mdata) \u001b[39m-\u001b[39m \u001b[39m1\u001b[39m][\u001b[39m\"\u001b[39m\u001b[39mEpoch\u001b[39m\u001b[39m\"\u001b[39m]\n\u001b[1;32m     45\u001b[0m     ):\n\u001b[1;32m     46\u001b[0m         \u001b[39mself\u001b[39m\u001b[39m.\u001b[39mdata\u001b[39m.\u001b[39mloc[\u001b[39mlen\u001b[39m(\u001b[39mself\u001b[39m\u001b[39m.\u001b[39mdata)] \u001b[39m=\u001b[39m new_data\n",
      "File \u001b[0;32m~/Documents/GitHub/The-Brawl-2023/trading_tools/helper_functions.py:17\u001b[0m, in \u001b[0;36mmake_multiple_requests\u001b[0;34m(urls, max_workers)\u001b[0m\n\u001b[1;32m     15\u001b[0m \u001b[39mdef\u001b[39;00m \u001b[39mmake_multiple_requests\u001b[39m(urls, max_workers\u001b[39m=\u001b[39m\u001b[39m3\u001b[39m):\n\u001b[1;32m     16\u001b[0m     \u001b[39mwith\u001b[39;00m ThreadPoolExecutor(max_workers\u001b[39m=\u001b[39mmax_workers) \u001b[39mas\u001b[39;00m executor:\n\u001b[0;32m---> 17\u001b[0m         responses \u001b[39m=\u001b[39m \u001b[39mlist\u001b[39;49m(executor\u001b[39m.\u001b[39;49mmap(make_request, urls))\n\u001b[1;32m     19\u001b[0m     data \u001b[39m=\u001b[39m {}\n\u001b[1;32m     20\u001b[0m     \u001b[39mfor\u001b[39;00m url, response \u001b[39min\u001b[39;00m \u001b[39mzip\u001b[39m(urls, responses):\n",
      "File \u001b[0;32m/opt/miniconda3/envs/deepsenseai/lib/python3.10/concurrent/futures/_base.py:621\u001b[0m, in \u001b[0;36mExecutor.map.<locals>.result_iterator\u001b[0;34m()\u001b[0m\n\u001b[1;32m    618\u001b[0m \u001b[39mwhile\u001b[39;00m fs:\n\u001b[1;32m    619\u001b[0m     \u001b[39m# Careful not to keep a reference to the popped future\u001b[39;00m\n\u001b[1;32m    620\u001b[0m     \u001b[39mif\u001b[39;00m timeout \u001b[39mis\u001b[39;00m \u001b[39mNone\u001b[39;00m:\n\u001b[0;32m--> 621\u001b[0m         \u001b[39myield\u001b[39;00m _result_or_cancel(fs\u001b[39m.\u001b[39;49mpop())\n\u001b[1;32m    622\u001b[0m     \u001b[39melse\u001b[39;00m:\n\u001b[1;32m    623\u001b[0m         \u001b[39myield\u001b[39;00m _result_or_cancel(fs\u001b[39m.\u001b[39mpop(), end_time \u001b[39m-\u001b[39m time\u001b[39m.\u001b[39mmonotonic())\n",
      "File \u001b[0;32m/opt/miniconda3/envs/deepsenseai/lib/python3.10/concurrent/futures/_base.py:319\u001b[0m, in \u001b[0;36m_result_or_cancel\u001b[0;34m(***failed resolving arguments***)\u001b[0m\n\u001b[1;32m    317\u001b[0m \u001b[39mtry\u001b[39;00m:\n\u001b[1;32m    318\u001b[0m     \u001b[39mtry\u001b[39;00m:\n\u001b[0;32m--> 319\u001b[0m         \u001b[39mreturn\u001b[39;00m fut\u001b[39m.\u001b[39;49mresult(timeout)\n\u001b[1;32m    320\u001b[0m     \u001b[39mfinally\u001b[39;00m:\n\u001b[1;32m    321\u001b[0m         fut\u001b[39m.\u001b[39mcancel()\n",
      "File \u001b[0;32m/opt/miniconda3/envs/deepsenseai/lib/python3.10/concurrent/futures/_base.py:453\u001b[0m, in \u001b[0;36mFuture.result\u001b[0;34m(self, timeout)\u001b[0m\n\u001b[1;32m    450\u001b[0m \u001b[39melif\u001b[39;00m \u001b[39mself\u001b[39m\u001b[39m.\u001b[39m_state \u001b[39m==\u001b[39m FINISHED:\n\u001b[1;32m    451\u001b[0m     \u001b[39mreturn\u001b[39;00m \u001b[39mself\u001b[39m\u001b[39m.\u001b[39m__get_result()\n\u001b[0;32m--> 453\u001b[0m \u001b[39mself\u001b[39;49m\u001b[39m.\u001b[39;49m_condition\u001b[39m.\u001b[39;49mwait(timeout)\n\u001b[1;32m    455\u001b[0m \u001b[39mif\u001b[39;00m \u001b[39mself\u001b[39m\u001b[39m.\u001b[39m_state \u001b[39min\u001b[39;00m [CANCELLED, CANCELLED_AND_NOTIFIED]:\n\u001b[1;32m    456\u001b[0m     \u001b[39mraise\u001b[39;00m CancelledError()\n",
      "File \u001b[0;32m/opt/miniconda3/envs/deepsenseai/lib/python3.10/threading.py:320\u001b[0m, in \u001b[0;36mCondition.wait\u001b[0;34m(self, timeout)\u001b[0m\n\u001b[1;32m    318\u001b[0m \u001b[39mtry\u001b[39;00m:    \u001b[39m# restore state no matter what (e.g., KeyboardInterrupt)\u001b[39;00m\n\u001b[1;32m    319\u001b[0m     \u001b[39mif\u001b[39;00m timeout \u001b[39mis\u001b[39;00m \u001b[39mNone\u001b[39;00m:\n\u001b[0;32m--> 320\u001b[0m         waiter\u001b[39m.\u001b[39;49macquire()\n\u001b[1;32m    321\u001b[0m         gotit \u001b[39m=\u001b[39m \u001b[39mTrue\u001b[39;00m\n\u001b[1;32m    322\u001b[0m     \u001b[39melse\u001b[39;00m:\n",
      "\u001b[0;31mKeyboardInterrupt\u001b[0m: "
     ]
    }
   ],
   "source": [
    "from trader import Trader\n",
    "from utils import id_token\n",
    "\n",
    "trader = Trader(id_token, None)\n",
    "trader.trade()"
   ]
  },
  {
   "cell_type": "code",
   "execution_count": 63,
   "metadata": {},
   "outputs": [
    {
     "data": {
      "text/html": [
       "<div>\n",
       "<style scoped>\n",
       "    .dataframe tbody tr th:only-of-type {\n",
       "        vertical-align: middle;\n",
       "    }\n",
       "\n",
       "    .dataframe tbody tr th {\n",
       "        vertical-align: top;\n",
       "    }\n",
       "\n",
       "    .dataframe thead th {\n",
       "        text-align: right;\n",
       "    }\n",
       "</style>\n",
       "<table border=\"1\" class=\"dataframe\">\n",
       "  <thead>\n",
       "    <tr style=\"text-align: right;\">\n",
       "      <th></th>\n",
       "      <th>Time</th>\n",
       "      <th>Epoch</th>\n",
       "      <th>BTC_price</th>\n",
       "      <th>ETH_price</th>\n",
       "    </tr>\n",
       "  </thead>\n",
       "  <tbody>\n",
       "    <tr>\n",
       "      <th>0</th>\n",
       "      <td>2023-12-14 16:24:59</td>\n",
       "      <td>1702571099</td>\n",
       "      <td>42528.375</td>\n",
       "      <td>2276.025</td>\n",
       "    </tr>\n",
       "    <tr>\n",
       "      <th>1</th>\n",
       "      <td>2023-12-14 16:25:00</td>\n",
       "      <td>1702571100</td>\n",
       "      <td>42529.905</td>\n",
       "      <td>2276.025</td>\n",
       "    </tr>\n",
       "    <tr>\n",
       "      <th>2</th>\n",
       "      <td>2023-12-14 16:25:01</td>\n",
       "      <td>1702571101</td>\n",
       "      <td>42525.615</td>\n",
       "      <td>2276.025</td>\n",
       "    </tr>\n",
       "  </tbody>\n",
       "</table>\n",
       "</div>"
      ],
      "text/plain": [
       "                 Time       Epoch  BTC_price  ETH_price\n",
       "0 2023-12-14 16:24:59  1702571099  42528.375   2276.025\n",
       "1 2023-12-14 16:25:00  1702571100  42529.905   2276.025\n",
       "2 2023-12-14 16:25:01  1702571101  42525.615   2276.025"
      ]
     },
     "execution_count": 63,
     "metadata": {},
     "output_type": "execute_result"
    }
   ],
   "source": [
    "trader.data"
   ]
  },
  {
   "cell_type": "code",
   "execution_count": 64,
   "metadata": {},
   "outputs": [
    {
     "data": {
      "text/plain": [
       "Time         2023-12-14 16:25:00\n",
       "Epoch                 1702571100\n",
       "BTC_price              42529.905\n",
       "ETH_price               2276.025\n",
       "Name: 1, dtype: object"
      ]
     },
     "execution_count": 64,
     "metadata": {},
     "output_type": "execute_result"
    }
   ],
   "source": [
    "trader.execute_trade()"
   ]
  },
  {
   "cell_type": "code",
   "execution_count": 67,
   "metadata": {},
   "outputs": [
    {
     "name": "stdout",
     "output_type": "stream",
     "text": [
      "Buying 0.0001 BTC for 42600 per unit USD, total: 4.26 USD\n"
     ]
    },
    {
     "data": {
      "text/plain": [
       "<Response [201]>"
      ]
     },
     "execution_count": 67,
     "metadata": {},
     "output_type": "execute_result"
    }
   ],
   "source": [
    "from utils import id_token\n",
    "from helper_functions import buy_btc\n",
    "\n",
    "buy_btc(0.000001, 42700, id_token)"
   ]
  },
  {
   "cell_type": "code",
   "execution_count": null,
   "metadata": {},
   "outputs": [],
   "source": []
  }
 ],
 "metadata": {
  "kernelspec": {
   "display_name": "deepsenseai",
   "language": "python",
   "name": "python3"
  },
  "language_info": {
   "codemirror_mode": {
    "name": "ipython",
    "version": 3
   },
   "file_extension": ".py",
   "mimetype": "text/x-python",
   "name": "python",
   "nbconvert_exporter": "python",
   "pygments_lexer": "ipython3",
   "version": "3.10.13"
  }
 },
 "nbformat": 4,
 "nbformat_minor": 2
}
